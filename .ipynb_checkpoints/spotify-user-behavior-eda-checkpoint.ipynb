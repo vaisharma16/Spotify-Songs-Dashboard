{
 "cells": [
  {
   "cell_type": "code",
   "execution_count": 1,
   "id": "0fbe183e",
   "metadata": {
    "_cell_guid": "b1076dfc-b9ad-4769-8c92-a6c4dae69d19",
    "_uuid": "8f2839f25d086af736a60e9eeb907d3b93b6e0e5",
    "execution": {
     "iopub.execute_input": "2023-07-12T03:29:17.827166Z",
     "iopub.status.busy": "2023-07-12T03:29:17.826693Z",
     "iopub.status.idle": "2023-07-12T03:29:17.844310Z",
     "shell.execute_reply": "2023-07-12T03:29:17.843231Z"
    },
    "papermill": {
     "duration": 0.031823,
     "end_time": "2023-07-12T03:29:17.846771",
     "exception": false,
     "start_time": "2023-07-12T03:29:17.814948",
     "status": "completed"
    },
    "tags": []
   },
   "outputs": [
    {
     "name": "stdout",
     "output_type": "stream",
     "text": [
      "/kaggle/input/spotify-user-behavior-dataset/Spotify_data.xlsx\n"
     ]
    }
   ],
   "source": [
    "# This Python 3 environment comes with many helpful analytics libraries installed\n",
    "# It is defined by the kaggle/python Docker image: https://github.com/kaggle/docker-python\n",
    "# For example, here's several helpful packages to load\n",
    "\n",
    "import numpy as np # linear algebra\n",
    "import pandas as pd # data processing, CSV file I/O (e.g. pd.read_csv)\n",
    "\n",
    "# Input data files are available in the read-only \"../input/\" directory\n",
    "# For example, running this (by clicking run or pressing Shift+Enter) will list all files under the input directory\n",
    "\n",
    "import os\n",
    "for dirname, _, filenames in os.walk('/kaggle/input'):\n",
    "    for filename in filenames:\n",
    "        print(os.path.join(dirname, filename))\n",
    "\n",
    "# You can write up to 20GB to the current directory (/kaggle/working/) that gets preserved as output when you create a version using \"Save & Run All\" \n",
    "# You can also write temporary files to /kaggle/temp/, but they won't be saved outside of the current session"
   ]
  },
  {
   "cell_type": "markdown",
   "id": "92e426c7",
   "metadata": {
    "papermill": {
     "duration": 0.007236,
     "end_time": "2023-07-12T03:29:17.861832",
     "exception": false,
     "start_time": "2023-07-12T03:29:17.854596",
     "status": "completed"
    },
    "tags": []
   },
   "source": [
    "# About Data:\n",
    "\n",
    "**Age** - Age group of user <br>\n",
    "**Gender** - Gender of user <br>\n",
    "**spotify_usage_period** - How long have you been using Spotify <br>\n",
    "**spotify_listening_device** - Which of the following devices do you primarily use to listen to Spotify<br>\n",
    "**spotify_subscription_plan** - Which Spotify subscription plan do you currently have<br>\n",
    "**premium_sub_willingness** - Are you willing to take a premium subscription or willing to continue with premium subscription in future<br>\n",
    "**preffered_premium_plan** - If premium or willing to take premium, what amount do you pay for the subscription<br>\n",
    "**preferred_listening_content** - What do you prefer to listen more<br>\n",
    "**fav_music_genre** - What genre(s) of music do you enjoy the most<br>\n",
    "**music_time_slot** - What is your favourite time slot to listen to music<br>\n",
    "**music_Influencial_mood** - When it comes to listening to music, which of the following moods or situations most strongly influences your choice of music<br>\n",
    "**music_lis_frequency** - When do you listen to music more often<br>\n",
    "**music_expl_method** - How do you discover new music on Spotify<br>\n",
    "**music_recc_rating** - How do you rate the spotify music recommendations<br>\n",
    "**pod_lis_frequency** - How often do you listen to Podcast<br>\n",
    "**fav_pod_genre** - What genre(s) of Podcast do you enjoy the most<br>\n",
    "**preffered_pod_format** - What podcast format you generally prefer<br>\n",
    "**pod_host_preference** - Are you more inclined to listen to podcasts from unknown personalities, or do you prefer podcasts hosted by well-known individuals<br>\n",
    "**preffered_pod_duration** - Do you prefer shorter podcast episodes (under 30 minutes) or longer episodes (over 30 minutes)<br>\n",
    "**pod_variety_satisfaction** - Are you satisfied with the variety and availability of podcasts on Spotify<br>"
   ]
  },
  {
   "cell_type": "code",
   "execution_count": 2,
   "id": "2a5f36c8",
   "metadata": {
    "execution": {
     "iopub.execute_input": "2023-07-12T03:29:17.878504Z",
     "iopub.status.busy": "2023-07-12T03:29:17.877891Z",
     "iopub.status.idle": "2023-07-12T03:29:29.884482Z",
     "shell.execute_reply": "2023-07-12T03:29:29.883405Z"
    },
    "papermill": {
     "duration": 12.017559,
     "end_time": "2023-07-12T03:29:29.886961",
     "exception": false,
     "start_time": "2023-07-12T03:29:17.869402",
     "status": "completed"
    },
    "tags": []
   },
   "outputs": [
    {
     "name": "stdout",
     "output_type": "stream",
     "text": [
      "Collecting klib\r\n",
      "  Downloading klib-1.0.7-py3-none-any.whl (20 kB)\r\n",
      "Requirement already satisfied: Jinja2<4.0.0,>=3.0.3 in /opt/conda/lib/python3.10/site-packages (from klib) (3.1.2)\r\n",
      "Requirement already satisfied: matplotlib<4.0.0,>=3.0.3 in /opt/conda/lib/python3.10/site-packages (from klib) (3.7.1)\r\n",
      "Requirement already satisfied: numpy<2.0.0,>=1.16.3 in /opt/conda/lib/python3.10/site-packages (from klib) (1.23.5)\r\n",
      "Requirement already satisfied: pandas<2.0.0,>=1.2.0 in /opt/conda/lib/python3.10/site-packages (from klib) (1.5.3)\r\n",
      "Requirement already satisfied: scipy<2.0.0,>=1.1.0 in /opt/conda/lib/python3.10/site-packages (from klib) (1.11.1)\r\n",
      "Requirement already satisfied: seaborn<0.13.0,>=0.11.2 in /opt/conda/lib/python3.10/site-packages (from klib) (0.12.2)\r\n",
      "Requirement already satisfied: MarkupSafe>=2.0 in /opt/conda/lib/python3.10/site-packages (from Jinja2<4.0.0,>=3.0.3->klib) (2.1.3)\r\n",
      "Requirement already satisfied: contourpy>=1.0.1 in /opt/conda/lib/python3.10/site-packages (from matplotlib<4.0.0,>=3.0.3->klib) (1.1.0)\r\n",
      "Requirement already satisfied: cycler>=0.10 in /opt/conda/lib/python3.10/site-packages (from matplotlib<4.0.0,>=3.0.3->klib) (0.11.0)\r\n",
      "Requirement already satisfied: fonttools>=4.22.0 in /opt/conda/lib/python3.10/site-packages (from matplotlib<4.0.0,>=3.0.3->klib) (4.40.0)\r\n",
      "Requirement already satisfied: kiwisolver>=1.0.1 in /opt/conda/lib/python3.10/site-packages (from matplotlib<4.0.0,>=3.0.3->klib) (1.4.4)\r\n",
      "Requirement already satisfied: packaging>=20.0 in /opt/conda/lib/python3.10/site-packages (from matplotlib<4.0.0,>=3.0.3->klib) (21.3)\r\n",
      "Requirement already satisfied: pillow>=6.2.0 in /opt/conda/lib/python3.10/site-packages (from matplotlib<4.0.0,>=3.0.3->klib) (9.5.0)\r\n",
      "Requirement already satisfied: pyparsing>=2.3.1 in /opt/conda/lib/python3.10/site-packages (from matplotlib<4.0.0,>=3.0.3->klib) (3.0.9)\r\n",
      "Requirement already satisfied: python-dateutil>=2.7 in /opt/conda/lib/python3.10/site-packages (from matplotlib<4.0.0,>=3.0.3->klib) (2.8.2)\r\n",
      "Requirement already satisfied: pytz>=2020.1 in /opt/conda/lib/python3.10/site-packages (from pandas<2.0.0,>=1.2.0->klib) (2023.3)\r\n",
      "Requirement already satisfied: six>=1.5 in /opt/conda/lib/python3.10/site-packages (from python-dateutil>=2.7->matplotlib<4.0.0,>=3.0.3->klib) (1.16.0)\r\n",
      "Installing collected packages: klib\r\n",
      "Successfully installed klib-1.0.7\r\n"
     ]
    }
   ],
   "source": [
    "!pip  install klib"
   ]
  },
  {
   "cell_type": "code",
   "execution_count": 3,
   "id": "8a0d433e",
   "metadata": {
    "execution": {
     "iopub.execute_input": "2023-07-12T03:29:29.905184Z",
     "iopub.status.busy": "2023-07-12T03:29:29.904824Z",
     "iopub.status.idle": "2023-07-12T03:29:31.257305Z",
     "shell.execute_reply": "2023-07-12T03:29:31.256090Z"
    },
    "papermill": {
     "duration": 1.364723,
     "end_time": "2023-07-12T03:29:31.259998",
     "exception": false,
     "start_time": "2023-07-12T03:29:29.895275",
     "status": "completed"
    },
    "tags": []
   },
   "outputs": [
    {
     "name": "stderr",
     "output_type": "stream",
     "text": [
      "/opt/conda/lib/python3.10/site-packages/scipy/__init__.py:146: UserWarning: A NumPy version >=1.16.5 and <1.23.0 is required for this version of SciPy (detected version 1.23.5\n",
      "  warnings.warn(f\"A NumPy version >={np_minversion} and <{np_maxversion}\"\n"
     ]
    }
   ],
   "source": [
    "#Importing Libraries\n",
    "import pandas as pd\n",
    "import numpy as np\n",
    "import matplotlib.pyplot as plt\n",
    "import klib"
   ]
  },
  {
   "cell_type": "code",
   "execution_count": 4,
   "id": "6ef4d23f",
   "metadata": {
    "execution": {
     "iopub.execute_input": "2023-07-12T03:29:31.279912Z",
     "iopub.status.busy": "2023-07-12T03:29:31.279257Z",
     "iopub.status.idle": "2023-07-12T03:29:31.755048Z",
     "shell.execute_reply": "2023-07-12T03:29:31.753895Z"
    },
    "papermill": {
     "duration": 0.487732,
     "end_time": "2023-07-12T03:29:31.757635",
     "exception": false,
     "start_time": "2023-07-12T03:29:31.269903",
     "status": "completed"
    },
    "tags": []
   },
   "outputs": [],
   "source": [
    "data=pd.read_excel('/kaggle/input/spotify-user-behavior-dataset/Spotify_data.xlsx')"
   ]
  },
  {
   "cell_type": "code",
   "execution_count": 5,
   "id": "3ed76327",
   "metadata": {
    "execution": {
     "iopub.execute_input": "2023-07-12T03:29:31.775844Z",
     "iopub.status.busy": "2023-07-12T03:29:31.775247Z",
     "iopub.status.idle": "2023-07-12T03:29:31.803101Z",
     "shell.execute_reply": "2023-07-12T03:29:31.802016Z"
    },
    "papermill": {
     "duration": 0.039499,
     "end_time": "2023-07-12T03:29:31.805369",
     "exception": false,
     "start_time": "2023-07-12T03:29:31.765870",
     "status": "completed"
    },
    "tags": []
   },
   "outputs": [
    {
     "name": "stdout",
     "output_type": "stream",
     "text": [
      "<class 'pandas.core.frame.DataFrame'>\n",
      "RangeIndex: 520 entries, 0 to 519\n",
      "Data columns (total 20 columns):\n",
      " #   Column                       Non-Null Count  Dtype \n",
      "---  ------                       --------------  ----- \n",
      " 0   Age                          520 non-null    object\n",
      " 1   Gender                       520 non-null    object\n",
      " 2   spotify_usage_period         520 non-null    object\n",
      " 3   spotify_listening_device     520 non-null    object\n",
      " 4   spotify_subscription_plan    520 non-null    object\n",
      " 5   premium_sub_willingness      520 non-null    object\n",
      " 6   preffered_premium_plan       520 non-null    object\n",
      " 7   preferred_listening_content  520 non-null    object\n",
      " 8   fav_music_genre              520 non-null    object\n",
      " 9   music_time_slot              520 non-null    object\n",
      " 10  music_Influencial_mood       520 non-null    object\n",
      " 11  music_lis_frequency          520 non-null    object\n",
      " 12  music_expl_method            520 non-null    object\n",
      " 13  music_recc_rating            520 non-null    int64 \n",
      " 14  pod_lis_frequency            520 non-null    object\n",
      " 15  fav_pod_genre                520 non-null    object\n",
      " 16  preffered_pod_format         520 non-null    object\n",
      " 17  pod_host_preference          520 non-null    object\n",
      " 18  preffered_pod_duration       520 non-null    object\n",
      " 19  pod_variety_satisfaction     520 non-null    object\n",
      "dtypes: int64(1), object(19)\n",
      "memory usage: 81.4+ KB\n"
     ]
    }
   ],
   "source": [
    "data.info()"
   ]
  },
  {
   "cell_type": "code",
   "execution_count": 6,
   "id": "3abe3d2d",
   "metadata": {
    "execution": {
     "iopub.execute_input": "2023-07-12T03:29:31.823879Z",
     "iopub.status.busy": "2023-07-12T03:29:31.823195Z",
     "iopub.status.idle": "2023-07-12T03:29:31.844211Z",
     "shell.execute_reply": "2023-07-12T03:29:31.843469Z"
    },
    "papermill": {
     "duration": 0.032932,
     "end_time": "2023-07-12T03:29:31.846573",
     "exception": false,
     "start_time": "2023-07-12T03:29:31.813641",
     "status": "completed"
    },
    "tags": []
   },
   "outputs": [
    {
     "data": {
      "text/html": [
       "<div>\n",
       "<style scoped>\n",
       "    .dataframe tbody tr th:only-of-type {\n",
       "        vertical-align: middle;\n",
       "    }\n",
       "\n",
       "    .dataframe tbody tr th {\n",
       "        vertical-align: top;\n",
       "    }\n",
       "\n",
       "    .dataframe thead th {\n",
       "        text-align: right;\n",
       "    }\n",
       "</style>\n",
       "<table border=\"1\" class=\"dataframe\">\n",
       "  <thead>\n",
       "    <tr style=\"text-align: right;\">\n",
       "      <th></th>\n",
       "      <th>music_recc_rating</th>\n",
       "    </tr>\n",
       "  </thead>\n",
       "  <tbody>\n",
       "    <tr>\n",
       "      <th>count</th>\n",
       "      <td>520.000000</td>\n",
       "    </tr>\n",
       "    <tr>\n",
       "      <th>mean</th>\n",
       "      <td>3.503846</td>\n",
       "    </tr>\n",
       "    <tr>\n",
       "      <th>std</th>\n",
       "      <td>0.979552</td>\n",
       "    </tr>\n",
       "    <tr>\n",
       "      <th>min</th>\n",
       "      <td>1.000000</td>\n",
       "    </tr>\n",
       "    <tr>\n",
       "      <th>25%</th>\n",
       "      <td>3.000000</td>\n",
       "    </tr>\n",
       "    <tr>\n",
       "      <th>50%</th>\n",
       "      <td>3.500000</td>\n",
       "    </tr>\n",
       "    <tr>\n",
       "      <th>75%</th>\n",
       "      <td>4.000000</td>\n",
       "    </tr>\n",
       "    <tr>\n",
       "      <th>max</th>\n",
       "      <td>5.000000</td>\n",
       "    </tr>\n",
       "  </tbody>\n",
       "</table>\n",
       "</div>"
      ],
      "text/plain": [
       "       music_recc_rating\n",
       "count         520.000000\n",
       "mean            3.503846\n",
       "std             0.979552\n",
       "min             1.000000\n",
       "25%             3.000000\n",
       "50%             3.500000\n",
       "75%             4.000000\n",
       "max             5.000000"
      ]
     },
     "execution_count": 6,
     "metadata": {},
     "output_type": "execute_result"
    }
   ],
   "source": [
    "data.describe()"
   ]
  },
  {
   "cell_type": "code",
   "execution_count": 7,
   "id": "1a5f15f4",
   "metadata": {
    "execution": {
     "iopub.execute_input": "2023-07-12T03:29:31.865430Z",
     "iopub.status.busy": "2023-07-12T03:29:31.864696Z",
     "iopub.status.idle": "2023-07-12T03:29:31.875877Z",
     "shell.execute_reply": "2023-07-12T03:29:31.874783Z"
    },
    "papermill": {
     "duration": 0.023003,
     "end_time": "2023-07-12T03:29:31.878055",
     "exception": false,
     "start_time": "2023-07-12T03:29:31.855052",
     "status": "completed"
    },
    "tags": []
   },
   "outputs": [
    {
     "data": {
      "text/plain": [
       "Age                            0\n",
       "Gender                         0\n",
       "spotify_usage_period           0\n",
       "spotify_listening_device       0\n",
       "spotify_subscription_plan      0\n",
       "premium_sub_willingness        0\n",
       "preffered_premium_plan         0\n",
       "preferred_listening_content    0\n",
       "fav_music_genre                0\n",
       "music_time_slot                0\n",
       "music_Influencial_mood         0\n",
       "music_lis_frequency            0\n",
       "music_expl_method              0\n",
       "music_recc_rating              0\n",
       "pod_lis_frequency              0\n",
       "fav_pod_genre                  0\n",
       "preffered_pod_format           0\n",
       "pod_host_preference            0\n",
       "preffered_pod_duration         0\n",
       "pod_variety_satisfaction       0\n",
       "dtype: int64"
      ]
     },
     "execution_count": 7,
     "metadata": {},
     "output_type": "execute_result"
    }
   ],
   "source": [
    "data.isna().sum()"
   ]
  },
  {
   "cell_type": "code",
   "execution_count": 8,
   "id": "332145dc",
   "metadata": {
    "execution": {
     "iopub.execute_input": "2023-07-12T03:29:31.896838Z",
     "iopub.status.busy": "2023-07-12T03:29:31.896204Z",
     "iopub.status.idle": "2023-07-12T03:29:31.902688Z",
     "shell.execute_reply": "2023-07-12T03:29:31.901880Z"
    },
    "papermill": {
     "duration": 0.018097,
     "end_time": "2023-07-12T03:29:31.904685",
     "exception": false,
     "start_time": "2023-07-12T03:29:31.886588",
     "status": "completed"
    },
    "tags": []
   },
   "outputs": [
    {
     "data": {
      "text/plain": [
       "Index(['Age', 'Gender', 'spotify_usage_period', 'spotify_listening_device',\n",
       "       'spotify_subscription_plan', 'premium_sub_willingness',\n",
       "       'preffered_premium_plan', 'preferred_listening_content',\n",
       "       'fav_music_genre', 'music_time_slot', 'music_Influencial_mood',\n",
       "       'music_lis_frequency', 'music_expl_method', 'music_recc_rating',\n",
       "       'pod_lis_frequency', 'fav_pod_genre', 'preffered_pod_format',\n",
       "       'pod_host_preference', 'preffered_pod_duration',\n",
       "       'pod_variety_satisfaction'],\n",
       "      dtype='object')"
      ]
     },
     "execution_count": 8,
     "metadata": {},
     "output_type": "execute_result"
    }
   ],
   "source": [
    "data.columns"
   ]
  },
  {
   "cell_type": "code",
   "execution_count": 9,
   "id": "054afdc4",
   "metadata": {
    "execution": {
     "iopub.execute_input": "2023-07-12T03:29:31.923839Z",
     "iopub.status.busy": "2023-07-12T03:29:31.923225Z",
     "iopub.status.idle": "2023-07-12T03:29:31.930137Z",
     "shell.execute_reply": "2023-07-12T03:29:31.928901Z"
    },
    "papermill": {
     "duration": 0.019027,
     "end_time": "2023-07-12T03:29:31.932308",
     "exception": false,
     "start_time": "2023-07-12T03:29:31.913281",
     "status": "completed"
    },
    "tags": []
   },
   "outputs": [
    {
     "name": "stdout",
     "output_type": "stream",
     "text": [
      "['Age', 'Gender', 'spotify_usage_period', 'spotify_listening_device', 'spotify_subscription_plan', 'premium_sub_willingness', 'preffered_premium_plan', 'preferred_listening_content', 'fav_music_genre', 'music_time_slot', 'music_Influencial_mood', 'music_lis_frequency', 'music_expl_method', 'pod_lis_frequency', 'fav_pod_genre', 'preffered_pod_format', 'pod_host_preference', 'preffered_pod_duration', 'pod_variety_satisfaction']\n",
      "['music_recc_rating']\n"
     ]
    }
   ],
   "source": [
    "cat_col=[]\n",
    "num_col=[]\n",
    "for col in data.columns:\n",
    "    if(data[col].dtypes=='object'):\n",
    "        cat_col.append(col)\n",
    "    else:\n",
    "        num_col.append(col)\n",
    "print(cat_col)\n",
    "print(num_col)"
   ]
  },
  {
   "cell_type": "markdown",
   "id": "ebb418f2",
   "metadata": {
    "papermill": {
     "duration": 0.008483,
     "end_time": "2023-07-12T03:29:31.949599",
     "exception": false,
     "start_time": "2023-07-12T03:29:31.941116",
     "status": "completed"
    },
    "tags": []
   },
   "source": [
    "# Exploratory Analysis"
   ]
  },
  {
   "cell_type": "code",
   "execution_count": 10,
   "id": "22bdd58d",
   "metadata": {
    "execution": {
     "iopub.execute_input": "2023-07-12T03:29:31.968733Z",
     "iopub.status.busy": "2023-07-12T03:29:31.968352Z",
     "iopub.status.idle": "2023-07-12T03:29:31.976287Z",
     "shell.execute_reply": "2023-07-12T03:29:31.975314Z"
    },
    "papermill": {
     "duration": 0.021016,
     "end_time": "2023-07-12T03:29:31.979270",
     "exception": false,
     "start_time": "2023-07-12T03:29:31.958254",
     "status": "completed"
    },
    "tags": []
   },
   "outputs": [
    {
     "name": "stdout",
     "output_type": "stream",
     "text": [
      "Age\n"
     ]
    },
    {
     "data": {
      "text/plain": [
       "20-35    422\n",
       "12-20     71\n",
       "35-60     23\n",
       "6-12       3\n",
       "60+        1\n",
       "Name: Age, dtype: int64"
      ]
     },
     "execution_count": 10,
     "metadata": {},
     "output_type": "execute_result"
    }
   ],
   "source": [
    "print(cat_col[0])\n",
    "data[cat_col[0]].value_counts()"
   ]
  },
  {
   "cell_type": "code",
   "execution_count": 11,
   "id": "a87ba64a",
   "metadata": {
    "execution": {
     "iopub.execute_input": "2023-07-12T03:29:31.998840Z",
     "iopub.status.busy": "2023-07-12T03:29:31.998481Z",
     "iopub.status.idle": "2023-07-12T03:29:32.006208Z",
     "shell.execute_reply": "2023-07-12T03:29:32.005214Z"
    },
    "papermill": {
     "duration": 0.020354,
     "end_time": "2023-07-12T03:29:32.008535",
     "exception": false,
     "start_time": "2023-07-12T03:29:31.988181",
     "status": "completed"
    },
    "tags": []
   },
   "outputs": [
    {
     "name": "stdout",
     "output_type": "stream",
     "text": [
      "Gender\n"
     ]
    },
    {
     "data": {
      "text/plain": [
       "Female    391\n",
       "Male      114\n",
       "Others     15\n",
       "Name: Gender, dtype: int64"
      ]
     },
     "execution_count": 11,
     "metadata": {},
     "output_type": "execute_result"
    }
   ],
   "source": [
    "print(cat_col[1])\n",
    "data[cat_col[1]].value_counts()"
   ]
  },
  {
   "cell_type": "code",
   "execution_count": 12,
   "id": "accd8c46",
   "metadata": {
    "execution": {
     "iopub.execute_input": "2023-07-12T03:29:32.028208Z",
     "iopub.status.busy": "2023-07-12T03:29:32.027834Z",
     "iopub.status.idle": "2023-07-12T03:29:32.035913Z",
     "shell.execute_reply": "2023-07-12T03:29:32.035114Z"
    },
    "papermill": {
     "duration": 0.021266,
     "end_time": "2023-07-12T03:29:32.038868",
     "exception": false,
     "start_time": "2023-07-12T03:29:32.017602",
     "status": "completed"
    },
    "tags": []
   },
   "outputs": [
    {
     "name": "stdout",
     "output_type": "stream",
     "text": [
      "spotify_usage_period\n"
     ]
    },
    {
     "data": {
      "text/plain": [
       "More than 2 years     169\n",
       "1 year to 2 years     141\n",
       "6 months to 1 year    119\n",
       "Less than 6 months     91\n",
       "Name: spotify_usage_period, dtype: int64"
      ]
     },
     "execution_count": 12,
     "metadata": {},
     "output_type": "execute_result"
    }
   ],
   "source": [
    "print(cat_col[2])\n",
    "data[cat_col[2]].value_counts()"
   ]
  },
  {
   "cell_type": "code",
   "execution_count": 13,
   "id": "e309d658",
   "metadata": {
    "execution": {
     "iopub.execute_input": "2023-07-12T03:29:32.059457Z",
     "iopub.status.busy": "2023-07-12T03:29:32.059052Z",
     "iopub.status.idle": "2023-07-12T03:29:32.068772Z",
     "shell.execute_reply": "2023-07-12T03:29:32.067392Z"
    },
    "papermill": {
     "duration": 0.02277,
     "end_time": "2023-07-12T03:29:32.070976",
     "exception": false,
     "start_time": "2023-07-12T03:29:32.048206",
     "status": "completed"
    },
    "tags": []
   },
   "outputs": [
    {
     "name": "stdout",
     "output_type": "stream",
     "text": [
      "spotify_listening_device\n"
     ]
    },
    {
     "data": {
      "text/plain": [
       "Smartphone                                                                              300\n",
       "Computer or laptop                                                                       54\n",
       "Smartphone, Computer or laptop                                                           48\n",
       "Smart speakers or voice assistants                                                       43\n",
       "Computer or laptop, Smart speakers or voice assistants                                   14\n",
       "Smartphone, Smart speakers or voice assistants                                           10\n",
       "Smartphone, Wearable devices                                                              8\n",
       "Smartphone, Computer or laptop, Smart speakers or voice assistants, Wearable devices      8\n",
       "Wearable devices                                                                          8\n",
       "Smartphone, Computer or laptop, Smart speakers or voice assistants                        7\n",
       "Smartphone, Computer or laptop, Wearable devices                                          5\n",
       "Computer or laptop, Wearable devices                                                      5\n",
       "Smartphone, Smart speakers or voice assistants, Wearable devices                          5\n",
       "Computer or laptop, Smart speakers or voice assistants, Wearable devices                  3\n",
       "Smart speakers or voice assistants, Wearable devices                                      2\n",
       "Name: spotify_listening_device, dtype: int64"
      ]
     },
     "execution_count": 13,
     "metadata": {},
     "output_type": "execute_result"
    }
   ],
   "source": [
    "print(cat_col[3])\n",
    "data[cat_col[3]].value_counts()"
   ]
  },
  {
   "cell_type": "code",
   "execution_count": 14,
   "id": "feebe71a",
   "metadata": {
    "execution": {
     "iopub.execute_input": "2023-07-12T03:29:32.091637Z",
     "iopub.status.busy": "2023-07-12T03:29:32.091246Z",
     "iopub.status.idle": "2023-07-12T03:29:32.100593Z",
     "shell.execute_reply": "2023-07-12T03:29:32.098976Z"
    },
    "papermill": {
     "duration": 0.022399,
     "end_time": "2023-07-12T03:29:32.102900",
     "exception": false,
     "start_time": "2023-07-12T03:29:32.080501",
     "status": "completed"
    },
    "tags": []
   },
   "outputs": [
    {
     "name": "stdout",
     "output_type": "stream",
     "text": [
      "spotify_subscription_plan\n"
     ]
    },
    {
     "data": {
      "text/plain": [
       "Free (ad-supported)            424\n",
       "Premium (paid subscription)     96\n",
       "Name: spotify_subscription_plan, dtype: int64"
      ]
     },
     "execution_count": 14,
     "metadata": {},
     "output_type": "execute_result"
    }
   ],
   "source": [
    "print(cat_col[4])\n",
    "data[cat_col[4]].value_counts()"
   ]
  },
  {
   "cell_type": "code",
   "execution_count": 15,
   "id": "92b5448d",
   "metadata": {
    "execution": {
     "iopub.execute_input": "2023-07-12T03:29:32.123676Z",
     "iopub.status.busy": "2023-07-12T03:29:32.123293Z",
     "iopub.status.idle": "2023-07-12T03:29:32.131711Z",
     "shell.execute_reply": "2023-07-12T03:29:32.130503Z"
    },
    "papermill": {
     "duration": 0.021465,
     "end_time": "2023-07-12T03:29:32.134010",
     "exception": false,
     "start_time": "2023-07-12T03:29:32.112545",
     "status": "completed"
    },
    "tags": []
   },
   "outputs": [
    {
     "name": "stdout",
     "output_type": "stream",
     "text": [
      "premium_sub_willingness\n"
     ]
    },
    {
     "data": {
      "text/plain": [
       "No     334\n",
       "Yes    186\n",
       "Name: premium_sub_willingness, dtype: int64"
      ]
     },
     "execution_count": 15,
     "metadata": {},
     "output_type": "execute_result"
    }
   ],
   "source": [
    "print(cat_col[5])\n",
    "data[cat_col[5]].value_counts()"
   ]
  },
  {
   "cell_type": "code",
   "execution_count": 16,
   "id": "0dbed8e9",
   "metadata": {
    "execution": {
     "iopub.execute_input": "2023-07-12T03:29:32.155440Z",
     "iopub.status.busy": "2023-07-12T03:29:32.154844Z",
     "iopub.status.idle": "2023-07-12T03:29:32.163174Z",
     "shell.execute_reply": "2023-07-12T03:29:32.162045Z"
    },
    "papermill": {
     "duration": 0.021221,
     "end_time": "2023-07-12T03:29:32.165356",
     "exception": false,
     "start_time": "2023-07-12T03:29:32.144135",
     "status": "completed"
    },
    "tags": []
   },
   "outputs": [
    {
     "name": "stdout",
     "output_type": "stream",
     "text": [
      "preffered_premium_plan\n"
     ]
    },
    {
     "data": {
      "text/plain": [
       "None                              208\n",
       "Individual Plan- Rs 119/ month     95\n",
       "Student Plan-Rs 59/month           94\n",
       "Duo plan- Rs 149/month             84\n",
       "Family Plan-Rs 179/month           39\n",
       "Name: preffered_premium_plan, dtype: int64"
      ]
     },
     "execution_count": 16,
     "metadata": {},
     "output_type": "execute_result"
    }
   ],
   "source": [
    "print(cat_col[6])\n",
    "data[cat_col[6]].value_counts()"
   ]
  },
  {
   "cell_type": "code",
   "execution_count": 17,
   "id": "463cf5f2",
   "metadata": {
    "execution": {
     "iopub.execute_input": "2023-07-12T03:29:32.186633Z",
     "iopub.status.busy": "2023-07-12T03:29:32.186254Z",
     "iopub.status.idle": "2023-07-12T03:29:32.194404Z",
     "shell.execute_reply": "2023-07-12T03:29:32.193257Z"
    },
    "papermill": {
     "duration": 0.021383,
     "end_time": "2023-07-12T03:29:32.196601",
     "exception": false,
     "start_time": "2023-07-12T03:29:32.175218",
     "status": "completed"
    },
    "tags": []
   },
   "outputs": [
    {
     "name": "stdout",
     "output_type": "stream",
     "text": [
      "preferred_listening_content\n"
     ]
    },
    {
     "data": {
      "text/plain": [
       "Music      410\n",
       "Podcast    110\n",
       "Name: preferred_listening_content, dtype: int64"
      ]
     },
     "execution_count": 17,
     "metadata": {},
     "output_type": "execute_result"
    }
   ],
   "source": [
    "print(cat_col[7])\n",
    "data[cat_col[7]].value_counts()"
   ]
  },
  {
   "cell_type": "code",
   "execution_count": 18,
   "id": "5df7c3f2",
   "metadata": {
    "execution": {
     "iopub.execute_input": "2023-07-12T03:29:32.218224Z",
     "iopub.status.busy": "2023-07-12T03:29:32.217848Z",
     "iopub.status.idle": "2023-07-12T03:29:32.226659Z",
     "shell.execute_reply": "2023-07-12T03:29:32.225393Z"
    },
    "papermill": {
     "duration": 0.022293,
     "end_time": "2023-07-12T03:29:32.229004",
     "exception": false,
     "start_time": "2023-07-12T03:29:32.206711",
     "status": "completed"
    },
    "tags": []
   },
   "outputs": [
    {
     "name": "stdout",
     "output_type": "stream",
     "text": [
      "fav_music_genre\n"
     ]
    },
    {
     "data": {
      "text/plain": [
       "Melody                       259\n",
       "classical                     87\n",
       "Pop                           85\n",
       "Rap                           55\n",
       "Electronic/Dance              16\n",
       "All                            6\n",
       "Rock                           4\n",
       "Kpop                           4\n",
       "Classical & melody, dance      2\n",
       "Old songs                      1\n",
       "trending songs random          1\n",
       "Name: fav_music_genre, dtype: int64"
      ]
     },
     "execution_count": 18,
     "metadata": {},
     "output_type": "execute_result"
    }
   ],
   "source": [
    "print(cat_col[8])\n",
    "data[cat_col[8]].value_counts()"
   ]
  },
  {
   "cell_type": "code",
   "execution_count": 19,
   "id": "ee7d69ab",
   "metadata": {
    "execution": {
     "iopub.execute_input": "2023-07-12T03:29:32.251098Z",
     "iopub.status.busy": "2023-07-12T03:29:32.250751Z",
     "iopub.status.idle": "2023-07-12T03:29:32.258845Z",
     "shell.execute_reply": "2023-07-12T03:29:32.257917Z"
    },
    "papermill": {
     "duration": 0.021765,
     "end_time": "2023-07-12T03:29:32.260861",
     "exception": false,
     "start_time": "2023-07-12T03:29:32.239096",
     "status": "completed"
    },
    "tags": []
   },
   "outputs": [
    {
     "name": "stdout",
     "output_type": "stream",
     "text": [
      "music_time_slot\n"
     ]
    },
    {
     "data": {
      "text/plain": [
       "Night        312\n",
       "Afternoon    117\n",
       "Morning       91\n",
       "Name: music_time_slot, dtype: int64"
      ]
     },
     "execution_count": 19,
     "metadata": {},
     "output_type": "execute_result"
    }
   ],
   "source": [
    "print(cat_col[9])\n",
    "data[cat_col[9]].value_counts()"
   ]
  },
  {
   "cell_type": "code",
   "execution_count": 20,
   "id": "ada0446e",
   "metadata": {
    "execution": {
     "iopub.execute_input": "2023-07-12T03:29:32.282585Z",
     "iopub.status.busy": "2023-07-12T03:29:32.282217Z",
     "iopub.status.idle": "2023-07-12T03:29:32.291305Z",
     "shell.execute_reply": "2023-07-12T03:29:32.290262Z"
    },
    "papermill": {
     "duration": 0.022474,
     "end_time": "2023-07-12T03:29:32.293543",
     "exception": false,
     "start_time": "2023-07-12T03:29:32.271069",
     "status": "completed"
    },
    "tags": []
   },
   "outputs": [
    {
     "name": "stdout",
     "output_type": "stream",
     "text": [
      "music_Influencial_mood\n"
     ]
    },
    {
     "data": {
      "text/plain": [
       "Relaxation and stress relief                                                                                     195\n",
       "Uplifting and motivational                                                                                        67\n",
       "Sadness or melancholy                                                                                             55\n",
       "Relaxation and stress relief, Uplifting and motivational                                                          44\n",
       "Relaxation and stress relief, Uplifting and motivational, Sadness or melancholy, Social gatherings or parties     35\n",
       "Relaxation and stress relief, Sadness or melancholy                                                               33\n",
       "Relaxation and stress relief, Uplifting and motivational, Sadness or melancholy                                   22\n",
       "Social gatherings or parties                                                                                      16\n",
       "Relaxation and stress relief, Uplifting and motivational, Social gatherings or parties                            14\n",
       "Relaxation and stress relief, Social gatherings or parties                                                        13\n",
       "Uplifting and motivational, Sadness or melancholy                                                                 12\n",
       "Relaxation and stress relief, Sadness or melancholy, Social gatherings or parties                                  8\n",
       "Uplifting and motivational, Social gatherings or parties                                                           4\n",
       "Sadness or melancholy, Social gatherings or parties                                                                1\n",
       "Uplifting and motivational, Sadness or melancholy, Social gatherings or parties                                    1\n",
       "Name: music_Influencial_mood, dtype: int64"
      ]
     },
     "execution_count": 20,
     "metadata": {},
     "output_type": "execute_result"
    }
   ],
   "source": [
    "print(cat_col[10])\n",
    "data[cat_col[10]].value_counts()"
   ]
  },
  {
   "cell_type": "code",
   "execution_count": 21,
   "id": "3483008e",
   "metadata": {
    "execution": {
     "iopub.execute_input": "2023-07-12T03:29:32.316965Z",
     "iopub.status.busy": "2023-07-12T03:29:32.315987Z",
     "iopub.status.idle": "2023-07-12T03:29:32.323798Z",
     "shell.execute_reply": "2023-07-12T03:29:32.323094Z"
    },
    "papermill": {
     "duration": 0.021557,
     "end_time": "2023-07-12T03:29:32.325668",
     "exception": false,
     "start_time": "2023-07-12T03:29:32.304111",
     "status": "completed"
    },
    "tags": []
   },
   "outputs": [
    {
     "name": "stdout",
     "output_type": "stream",
     "text": [
      "music_lis_frequency\n"
     ]
    },
    {
     "data": {
      "text/plain": [
       "array(['leisure time', 'Workout session', 'Study Hours, While Traveling',\n",
       "       'Office hours, Workout session, leisure time', 'Office hours',\n",
       "       'While Traveling, leisure time',\n",
       "       'Office hours, While Traveling, Workout session',\n",
       "       'Office hours, While Traveling',\n",
       "       'Office hours, While Traveling, leisure time',\n",
       "       'Social gatherings ', 'While Traveling',\n",
       "       'While Traveling, Workout session, leisure time', 'Study Hours',\n",
       "       'Study Hours, leisure time', 'While Traveling, Workout session',\n",
       "       'Study Hours, Workout session, leisure time',\n",
       "       'Office hours, While Traveling, ', 'Workout session, leisure time',\n",
       "       'While Traveling, Workout session, leisure time, Night time, when cooking',\n",
       "       'Office hours, While Traveling, Workout session, leisure time',\n",
       "       'Study Hours, While Traveling, Workout session, leisure time',\n",
       "       'Office hours, Study Hours, While Traveling, Workout session, leisure time',\n",
       "       'Office hours, leisure time', 'Study Hours, Workout session',\n",
       "       'Office hours, Study Hours, While Traveling, leisure time',\n",
       "       'Study Hours, While Traveling, leisure time',\n",
       "       'Office hours, Workout session',\n",
       "       'Office hours, Study Hours, While Traveling', 'Random ',\n",
       "       'Study Hours, While Traveling, Workout session',\n",
       "       'Office hours, Study Hours, Workout session',\n",
       "       'While Traveling, Before bed ',\n",
       "       'Office hours, Study Hours, While Traveling, Workout session',\n",
       "       'Office hours, Study Hours, While Traveling, Workout session, leisure time, ',\n",
       "       'Office hours,Study Hours, While Traveling, leisure time'],\n",
       "      dtype=object)"
      ]
     },
     "execution_count": 21,
     "metadata": {},
     "output_type": "execute_result"
    }
   ],
   "source": [
    "print(cat_col[11])\n",
    "data[cat_col[11]].unique()"
   ]
  },
  {
   "cell_type": "code",
   "execution_count": 22,
   "id": "8db8c5e3",
   "metadata": {
    "execution": {
     "iopub.execute_input": "2023-07-12T03:29:32.349246Z",
     "iopub.status.busy": "2023-07-12T03:29:32.348283Z",
     "iopub.status.idle": "2023-07-12T03:29:32.356943Z",
     "shell.execute_reply": "2023-07-12T03:29:32.356007Z"
    },
    "papermill": {
     "duration": 0.02247,
     "end_time": "2023-07-12T03:29:32.358916",
     "exception": false,
     "start_time": "2023-07-12T03:29:32.336446",
     "status": "completed"
    },
    "tags": []
   },
   "outputs": [
    {
     "name": "stdout",
     "output_type": "stream",
     "text": [
      "music_expl_method\n"
     ]
    },
    {
     "data": {
      "text/plain": [
       "recommendations                              113\n",
       "Playlists                                    112\n",
       "recommendations, Playlists                    86\n",
       "Others                                        55\n",
       "Radio                                         51\n",
       "Playlists, Radio                              18\n",
       "recommendations, Playlists, Others            18\n",
       "recommendations, Others                       15\n",
       "recommendations, Playlists, Radio             13\n",
       "Playlists, Others                              9\n",
       "Radio, Others                                  7\n",
       "recommendations, Radio                         6\n",
       "Playlists, Radio, Others                       6\n",
       "recommendations, Radio, Others                 4\n",
       "recommendations, Playlists, Radio, Others      2\n",
       "recommendations,Others, Social media           1\n",
       "Others, Social media                           1\n",
       "Others, Friends                                1\n",
       "recommendations, Others, Social media          1\n",
       "Others, Search                                 1\n",
       "Name: music_expl_method, dtype: int64"
      ]
     },
     "execution_count": 22,
     "metadata": {},
     "output_type": "execute_result"
    }
   ],
   "source": [
    "print(cat_col[12])\n",
    "data[cat_col[12]].value_counts()"
   ]
  },
  {
   "cell_type": "code",
   "execution_count": 23,
   "id": "d6d551f8",
   "metadata": {
    "execution": {
     "iopub.execute_input": "2023-07-12T03:29:32.383449Z",
     "iopub.status.busy": "2023-07-12T03:29:32.382427Z",
     "iopub.status.idle": "2023-07-12T03:29:32.391723Z",
     "shell.execute_reply": "2023-07-12T03:29:32.390633Z"
    },
    "papermill": {
     "duration": 0.023631,
     "end_time": "2023-07-12T03:29:32.393721",
     "exception": false,
     "start_time": "2023-07-12T03:29:32.370090",
     "status": "completed"
    },
    "tags": []
   },
   "outputs": [
    {
     "name": "stdout",
     "output_type": "stream",
     "text": [
      "pod_lis_frequency\n"
     ]
    },
    {
     "data": {
      "text/plain": [
       "Rarely                  201\n",
       "Never                   130\n",
       "Once a week              91\n",
       "Several times a week     78\n",
       "Daily                    20\n",
       "Name: pod_lis_frequency, dtype: int64"
      ]
     },
     "execution_count": 23,
     "metadata": {},
     "output_type": "execute_result"
    }
   ],
   "source": [
    "print(cat_col[13])\n",
    "data[cat_col[13]].value_counts()"
   ]
  },
  {
   "cell_type": "code",
   "execution_count": 24,
   "id": "0359aa1e",
   "metadata": {
    "execution": {
     "iopub.execute_input": "2023-07-12T03:29:32.418632Z",
     "iopub.status.busy": "2023-07-12T03:29:32.417556Z",
     "iopub.status.idle": "2023-07-12T03:29:32.427412Z",
     "shell.execute_reply": "2023-07-12T03:29:32.426304Z"
    },
    "papermill": {
     "duration": 0.024243,
     "end_time": "2023-07-12T03:29:32.429424",
     "exception": false,
     "start_time": "2023-07-12T03:29:32.405181",
     "status": "completed"
    },
    "tags": []
   },
   "outputs": [
    {
     "name": "stdout",
     "output_type": "stream",
     "text": [
      "fav_pod_genre\n"
     ]
    },
    {
     "data": {
      "text/plain": [
       "None                                                148\n",
       "Comedy                                              107\n",
       "Lifestyle and Health                                102\n",
       "Health and Fitness                                   78\n",
       "Sports                                               51\n",
       "Food and cooking                                     20\n",
       "Finance related and current affairs                   1\n",
       "Educational                                           1\n",
       "Self help                                             1\n",
       "Novels                                                1\n",
       "Political, informative, topics that interests me      1\n",
       "Murder Mystery                                        1\n",
       "Technology                                            1\n",
       "Spiritual and devotional                              1\n",
       "General knowledge                                     1\n",
       "Dance and Relevant cases                              1\n",
       "Informative stuff                                     1\n",
       "Everything                                            1\n",
       "Business                                              1\n",
       "Stories                                               1\n",
       "Name: fav_pod_genre, dtype: int64"
      ]
     },
     "execution_count": 24,
     "metadata": {},
     "output_type": "execute_result"
    }
   ],
   "source": [
    "print(cat_col[14])\n",
    "data[cat_col[14]].value_counts()"
   ]
  },
  {
   "cell_type": "code",
   "execution_count": 25,
   "id": "340cd897",
   "metadata": {
    "execution": {
     "iopub.execute_input": "2023-07-12T03:29:32.454240Z",
     "iopub.status.busy": "2023-07-12T03:29:32.453837Z",
     "iopub.status.idle": "2023-07-12T03:29:32.462733Z",
     "shell.execute_reply": "2023-07-12T03:29:32.461545Z"
    },
    "papermill": {
     "duration": 0.024293,
     "end_time": "2023-07-12T03:29:32.465161",
     "exception": false,
     "start_time": "2023-07-12T03:29:32.440868",
     "status": "completed"
    },
    "tags": []
   },
   "outputs": [
    {
     "name": "stdout",
     "output_type": "stream",
     "text": [
      "preffered_pod_format\n"
     ]
    },
    {
     "data": {
      "text/plain": [
       "Story telling     152\n",
       "None              140\n",
       "Conversational    105\n",
       "Interview          74\n",
       "Educational        49\n",
       "Name: preffered_pod_format, dtype: int64"
      ]
     },
     "execution_count": 25,
     "metadata": {},
     "output_type": "execute_result"
    }
   ],
   "source": [
    "print(cat_col[15])\n",
    "data[cat_col[15]].value_counts()"
   ]
  },
  {
   "cell_type": "code",
   "execution_count": 26,
   "id": "ceef8a77",
   "metadata": {
    "execution": {
     "iopub.execute_input": "2023-07-12T03:29:32.490111Z",
     "iopub.status.busy": "2023-07-12T03:29:32.489758Z",
     "iopub.status.idle": "2023-07-12T03:29:32.498549Z",
     "shell.execute_reply": "2023-07-12T03:29:32.497327Z"
    },
    "papermill": {
     "duration": 0.023818,
     "end_time": "2023-07-12T03:29:32.500681",
     "exception": false,
     "start_time": "2023-07-12T03:29:32.476863",
     "status": "completed"
    },
    "tags": []
   },
   "outputs": [
    {
     "name": "stdout",
     "output_type": "stream",
     "text": [
      "pod_host_preference\n"
     ]
    },
    {
     "data": {
      "text/plain": [
       "Both                      180\n",
       "None                      141\n",
       "Well known individuals    114\n",
       "unknown Podcasters         85\n",
       "Name: pod_host_preference, dtype: int64"
      ]
     },
     "execution_count": 26,
     "metadata": {},
     "output_type": "execute_result"
    }
   ],
   "source": [
    "print(cat_col[16])\n",
    "data[cat_col[16]].value_counts()"
   ]
  },
  {
   "cell_type": "code",
   "execution_count": 27,
   "id": "68b9111c",
   "metadata": {
    "execution": {
     "iopub.execute_input": "2023-07-12T03:29:32.525860Z",
     "iopub.status.busy": "2023-07-12T03:29:32.525497Z",
     "iopub.status.idle": "2023-07-12T03:29:32.534499Z",
     "shell.execute_reply": "2023-07-12T03:29:32.533350Z"
    },
    "papermill": {
     "duration": 0.024151,
     "end_time": "2023-07-12T03:29:32.536575",
     "exception": false,
     "start_time": "2023-07-12T03:29:32.512424",
     "status": "completed"
    },
    "tags": []
   },
   "outputs": [
    {
     "name": "stdout",
     "output_type": "stream",
     "text": [
      "preffered_pod_duration\n"
     ]
    },
    {
     "data": {
      "text/plain": [
       "Shorter    191\n",
       "None       129\n",
       "Both       117\n",
       "Longer      83\n",
       "Name: preffered_pod_duration, dtype: int64"
      ]
     },
     "execution_count": 27,
     "metadata": {},
     "output_type": "execute_result"
    }
   ],
   "source": [
    "print(cat_col[17])\n",
    "data[cat_col[17]].value_counts()"
   ]
  },
  {
   "cell_type": "code",
   "execution_count": 28,
   "id": "9c203ad2",
   "metadata": {
    "execution": {
     "iopub.execute_input": "2023-07-12T03:29:32.561875Z",
     "iopub.status.busy": "2023-07-12T03:29:32.561518Z",
     "iopub.status.idle": "2023-07-12T03:29:32.570697Z",
     "shell.execute_reply": "2023-07-12T03:29:32.569200Z"
    },
    "papermill": {
     "duration": 0.024245,
     "end_time": "2023-07-12T03:29:32.572756",
     "exception": false,
     "start_time": "2023-07-12T03:29:32.548511",
     "status": "completed"
    },
    "tags": []
   },
   "outputs": [
    {
     "name": "stdout",
     "output_type": "stream",
     "text": [
      "pod_variety_satisfaction\n"
     ]
    },
    {
     "data": {
      "text/plain": [
       "Ok                   280\n",
       "Satisfied            162\n",
       "Very Satisfied        48\n",
       "Dissatisfied          20\n",
       "Very Dissatisfied     10\n",
       "Name: pod_variety_satisfaction, dtype: int64"
      ]
     },
     "execution_count": 28,
     "metadata": {},
     "output_type": "execute_result"
    }
   ],
   "source": [
    "print(cat_col[18])\n",
    "data[cat_col[18]].value_counts()"
   ]
  },
  {
   "cell_type": "code",
   "execution_count": null,
   "id": "b2ade3de",
   "metadata": {
    "papermill": {
     "duration": 0.011658,
     "end_time": "2023-07-12T03:29:32.596572",
     "exception": false,
     "start_time": "2023-07-12T03:29:32.584914",
     "status": "completed"
    },
    "tags": []
   },
   "outputs": [],
   "source": []
  },
  {
   "cell_type": "markdown",
   "id": "951032fc",
   "metadata": {
    "papermill": {
     "duration": 0.011721,
     "end_time": "2023-07-12T03:29:32.620196",
     "exception": false,
     "start_time": "2023-07-12T03:29:32.608475",
     "status": "completed"
    },
    "tags": []
   },
   "source": [
    "# Distribution of numeric column"
   ]
  },
  {
   "cell_type": "code",
   "execution_count": 29,
   "id": "afa703a1",
   "metadata": {
    "execution": {
     "iopub.execute_input": "2023-07-12T03:29:32.646808Z",
     "iopub.status.busy": "2023-07-12T03:29:32.645868Z",
     "iopub.status.idle": "2023-07-12T03:29:32.968580Z",
     "shell.execute_reply": "2023-07-12T03:29:32.967618Z"
    },
    "papermill": {
     "duration": 0.338364,
     "end_time": "2023-07-12T03:29:32.970993",
     "exception": false,
     "start_time": "2023-07-12T03:29:32.632629",
     "status": "completed"
    },
    "tags": []
   },
   "outputs": [
    {
     "data": {
      "image/png": "[encoded data removed]",
      "text/plain": [
       "<Figure size 2000x1000 with 1 Axes>"
      ]
     },
     "metadata": {},
     "output_type": "display_data"
    }
   ],
   "source": [
    "plt.figure(figsize=(20, 10))\n",
    "sorted_value=data[num_col[0]].value_counts()\n",
    "plt.bar(sorted_value.index, sorted_value.values)\n",
    "plt.show()"
   ]
  },
  {
   "cell_type": "code",
   "execution_count": 30,
   "id": "f147c8ff",
   "metadata": {
    "execution": {
     "iopub.execute_input": "2023-07-12T03:29:32.998089Z",
     "iopub.status.busy": "2023-07-12T03:29:32.997057Z",
     "iopub.status.idle": "2023-07-12T03:29:33.517947Z",
     "shell.execute_reply": "2023-07-12T03:29:33.516838Z"
    },
    "papermill": {
     "duration": 0.536989,
     "end_time": "2023-07-12T03:29:33.520411",
     "exception": false,
     "start_time": "2023-07-12T03:29:32.983422",
     "status": "completed"
    },
    "tags": []
   },
   "outputs": [
    {
     "name": "stderr",
     "output_type": "stream",
     "text": [
      "/opt/conda/lib/python3.10/site-packages/seaborn/axisgrid.py:118: UserWarning: The figure layout has changed to tight\n",
      "  self._figure.tight_layout(*args, **kwargs)\n"
     ]
    },
    {
     "data": {
      "text/plain": [
       "<Axes: xlabel='music_recc_rating', ylabel='Density'>"
      ]
     },
     "execution_count": 30,
     "metadata": {},
     "output_type": "execute_result"
    },
    {
     "data": {
      "image/png": "[encoded data removed]",
      "text/plain": [
       "<Figure size 1500x300 with 1 Axes>"
      ]
     },
     "metadata": {},
     "output_type": "display_data"
    }
   ],
   "source": [
    "klib.dist_plot(data[num_col[0]])"
   ]
  },
  {
   "cell_type": "code",
   "execution_count": 31,
   "id": "899e07b0",
   "metadata": {
    "execution": {
     "iopub.execute_input": "2023-07-12T03:29:33.550009Z",
     "iopub.status.busy": "2023-07-12T03:29:33.549136Z",
     "iopub.status.idle": "2023-07-12T03:29:33.559958Z",
     "shell.execute_reply": "2023-07-12T03:29:33.558971Z"
    },
    "papermill": {
     "duration": 0.028119,
     "end_time": "2023-07-12T03:29:33.562008",
     "exception": false,
     "start_time": "2023-07-12T03:29:33.533889",
     "status": "completed"
    },
    "tags": []
   },
   "outputs": [
    {
     "data": {
      "text/plain": [
       "count    520.000000\n",
       "mean       3.503846\n",
       "std        0.979552\n",
       "min        1.000000\n",
       "25%        3.000000\n",
       "50%        3.500000\n",
       "75%        4.000000\n",
       "max        5.000000\n",
       "Name: music_recc_rating, dtype: float64"
      ]
     },
     "execution_count": 31,
     "metadata": {},
     "output_type": "execute_result"
    }
   ],
   "source": [
    "data['music_recc_rating'].describe()"
   ]
  },
  {
   "cell_type": "code",
   "execution_count": null,
   "id": "e0e0bfa8",
   "metadata": {
    "papermill": {
     "duration": 0.013162,
     "end_time": "2023-07-12T03:29:33.588702",
     "exception": false,
     "start_time": "2023-07-12T03:29:33.575540",
     "status": "completed"
    },
    "tags": []
   },
   "outputs": [],
   "source": []
  },
  {
   "cell_type": "markdown",
   "id": "d1961b93",
   "metadata": {
    "papermill": {
     "duration": 0.013236,
     "end_time": "2023-07-12T03:29:33.615629",
     "exception": false,
     "start_time": "2023-07-12T03:29:33.602393",
     "status": "completed"
    },
    "tags": []
   },
   "source": [
    "## Conclusion:\n",
    "From above values we can draw lot of insights:\n",
    "1. Spotify is highly used from smartphones. <br>\n",
    "2. Most people prefer to listen to Relaxation, stress relief and melody songs. <br>\n",
    "3. Prefered time is night. <br>\n",
    "4. Music is 4 times of podcast, from here we can say the major market is music. <br>\n",
    "   The podcast market is still unexploited by spotify. <br>\n",
    "5. There are more free user. <br>\n",
    "6. Spotify can target female customer to increase their premium count. <br>"
   ]
  }
 ],
 "metadata": {
  "kernelspec": {
   "display_name": "Python 3",
   "language": "python",
   "name": "python3"
  },
  "language_info": {
   "codemirror_mode": {
    "name": "ipython",
    "version": 3
   },
   "file_extension": ".py",
   "mimetype": "text/x-python",
   "name": "python",
   "nbconvert_exporter": "python",
   "pygments_lexer": "ipython3",
   "version": "3.10.12"
  },
  "papermill": {
   "default_parameters": {},
   "duration": 25.789908,
   "end_time": "2023-07-12T03:29:34.553962",
   "environment_variables": {},
   "exception": null,
   "input_path": "__notebook__.ipynb",
   "output_path": "__notebook__.ipynb",
   "parameters": {},
   "start_time": "2023-07-12T03:29:08.764054",
   "version": "2.4.0"
  }
 },
 "nbformat": 4,
 "nbformat_minor": 5
}
